{
  "nbformat": 4,
  "nbformat_minor": 0,
  "metadata": {
    "colab": {
      "name": "Data Structure.ipynb",
      "provenance": [],
      "authorship_tag": "ABX9TyO1+a5m6e+MKYPvkMd0pQzY",
      "include_colab_link": true
    },
    "kernelspec": {
      "name": "python3",
      "display_name": "Python 3"
    },
    "language_info": {
      "name": "python"
    }
  },
  "cells": [
    {
      "cell_type": "markdown",
      "metadata": {
        "id": "view-in-github",
        "colab_type": "text"
      },
      "source": [
        "<a href=\"https://colab.research.google.com/github/suphalaksana/data_viz_2022/blob/main/Data_Structure.ipynb\" target=\"_parent\"><img src=\"https://colab.research.google.com/assets/colab-badge.svg\" alt=\"Open In Colab\"/></a>"
      ]
    },
    {
      "cell_type": "markdown",
      "source": [
        "# Data Structure (โครงสร้างข้อมูล)\n",
        "การเก็บข้อมูลหลายๆตัวไว้ด้วยกันอย่างเป็นระเบียบ"
      ],
      "metadata": {
        "id": "meZ01kKJ5yWp"
      }
    },
    {
      "cell_type": "markdown",
      "source": [
        "## `list()`\n",
        "\n",
        "- เก็บอะไรก็ได้\n",
        "- ลำดับในการเก็บ มีความสำคัญ"
      ],
      "metadata": {
        "id": "XxqeLfM66T2j"
      }
    },
    {
      "cell_type": "code",
      "execution_count": 1,
      "metadata": {
        "id": "yf-UNrB54o-F"
      },
      "outputs": [],
      "source": [
        "list_a = [1,2,3,4,5,6]  #[ ] square brackets"
      ]
    },
    {
      "cell_type": "code",
      "source": [
        "list_a #กำหนดตัวแปร"
      ],
      "metadata": {
        "colab": {
          "base_uri": "https://localhost:8080/"
        },
        "id": "UJp3tkVg6hVD",
        "outputId": "3284bbb6-8ee8-4fa9-d677-a13977e26ca7"
      },
      "execution_count": 2,
      "outputs": [
        {
          "output_type": "execute_result",
          "data": {
            "text/plain": [
              "[1, 2, 3, 4, 5, 6]"
            ]
          },
          "metadata": {},
          "execution_count": 2
        }
      ]
    },
    {
      "cell_type": "code",
      "source": [
        "list_b = ['ab',2,3.14,list_a]  #กำหนดตัวแปร"
      ],
      "metadata": {
        "id": "skY-bxHb6kra"
      },
      "execution_count": 3,
      "outputs": []
    },
    {
      "cell_type": "code",
      "source": [
        "list_b"
      ],
      "metadata": {
        "colab": {
          "base_uri": "https://localhost:8080/"
        },
        "id": "m41ZwUdE7BCC",
        "outputId": "4a721f84-d093-49fd-e2be-216321a61917"
      },
      "execution_count": 4,
      "outputs": [
        {
          "output_type": "execute_result",
          "data": {
            "text/plain": [
              "['ab', 2, 3.14, [1, 2, 3, 4, 5, 6]]"
            ]
          },
          "metadata": {},
          "execution_count": 4
        }
      ]
    },
    {
      "cell_type": "markdown",
      "source": [
        "### indexing การชี้สมาชิกใน list ด้วย เลขลำดับของ list"
      ],
      "metadata": {
        "id": "tGNRAgPr8JbC"
      }
    },
    {
      "cell_type": "code",
      "source": [
        "list_a[3]  #สมาชิกตัวที่ 3"
      ],
      "metadata": {
        "colab": {
          "base_uri": "https://localhost:8080/"
        },
        "id": "6jMoA1iA7CIB",
        "outputId": "047d4ac8-9aaf-4566-8b33-4a9fe4afa98f"
      },
      "execution_count": 5,
      "outputs": [
        {
          "output_type": "execute_result",
          "data": {
            "text/plain": [
              "4"
            ]
          },
          "metadata": {},
          "execution_count": 5
        }
      ]
    },
    {
      "cell_type": "code",
      "source": [
        "list_b[3]  #สมาชิกตัวที่ 3"
      ],
      "metadata": {
        "colab": {
          "base_uri": "https://localhost:8080/"
        },
        "id": "ZdT8UeA47f0q",
        "outputId": "d8509283-0bcf-4a17-bd2e-e6a37d715ffe"
      },
      "execution_count": 6,
      "outputs": [
        {
          "output_type": "execute_result",
          "data": {
            "text/plain": [
              "[1, 2, 3, 4, 5, 6]"
            ]
          },
          "metadata": {},
          "execution_count": 6
        }
      ]
    },
    {
      "cell_type": "code",
      "source": [
        "list_b[3][3]  #เอาสมาชิกตัวที่ 3 และเอาสมาชิกตัวที่ 3 อีกที"
      ],
      "metadata": {
        "colab": {
          "base_uri": "https://localhost:8080/"
        },
        "id": "OKt7jZGY7fxp",
        "outputId": "b2edd22d-5fde-4472-9513-ce68b4fd52b2"
      },
      "execution_count": 7,
      "outputs": [
        {
          "output_type": "execute_result",
          "data": {
            "text/plain": [
              "4"
            ]
          },
          "metadata": {},
          "execution_count": 7
        }
      ]
    },
    {
      "cell_type": "code",
      "source": [
        "list_b[3][4] #เอาสมาชิกตัวที่ 3 และเอาสมาชิกตัวที่ 4 อีกที"
      ],
      "metadata": {
        "colab": {
          "base_uri": "https://localhost:8080/"
        },
        "outputId": "ac68eb06-3349-4a79-a732-038ced6b7d0c",
        "id": "vSn3_Xra_0RX"
      },
      "execution_count": 8,
      "outputs": [
        {
          "output_type": "execute_result",
          "data": {
            "text/plain": [
              "5"
            ]
          },
          "metadata": {},
          "execution_count": 8
        }
      ]
    },
    {
      "cell_type": "code",
      "source": [
        "list_a[6] #ไม่มีลำดับอยู่ใน list  ลำดับที่6 มันไม่มี"
      ],
      "metadata": {
        "colab": {
          "base_uri": "https://localhost:8080/",
          "height": 165
        },
        "id": "LwT0AkhL7fuu",
        "outputId": "ad86fe33-b188-4ebb-bab6-4c351c1e2256"
      },
      "execution_count": 9,
      "outputs": [
        {
          "output_type": "error",
          "ename": "IndexError",
          "evalue": "ignored",
          "traceback": [
            "\u001b[0;31m---------------------------------------------------------------------------\u001b[0m",
            "\u001b[0;31mIndexError\u001b[0m                                Traceback (most recent call last)",
            "\u001b[0;32m<ipython-input-9-828aa6970dbe>\u001b[0m in \u001b[0;36m<module>\u001b[0;34m()\u001b[0m\n\u001b[0;32m----> 1\u001b[0;31m \u001b[0mlist_a\u001b[0m\u001b[0;34m[\u001b[0m\u001b[0;36m6\u001b[0m\u001b[0;34m]\u001b[0m \u001b[0;31m#ไม่มีลำดับอยู่ใน list  ลำดับที่6 มันไม่มี\u001b[0m\u001b[0;34m\u001b[0m\u001b[0;34m\u001b[0m\u001b[0m\n\u001b[0m",
            "\u001b[0;31mIndexError\u001b[0m: list index out of range"
          ]
        }
      ]
    },
    {
      "cell_type": "code",
      "source": [
        "list_a[-1] #index -1 คือตัวสุดท้ายของ list  จะใช้เมื่อมีจำนวนสมาชิกใน list เยอะ"
      ],
      "metadata": {
        "colab": {
          "base_uri": "https://localhost:8080/"
        },
        "id": "izhMdzfb7fsP",
        "outputId": "65d5709a-13c6-4591-afc4-214bb48c5e8c"
      },
      "execution_count": 10,
      "outputs": [
        {
          "output_type": "execute_result",
          "data": {
            "text/plain": [
              "6"
            ]
          },
          "metadata": {},
          "execution_count": 10
        }
      ]
    },
    {
      "cell_type": "code",
      "source": [
        "list_a[-4]  #ลำดับ -4 นับจากข้างหลังไป"
      ],
      "metadata": {
        "colab": {
          "base_uri": "https://localhost:8080/"
        },
        "id": "6fk3ge729A_5",
        "outputId": "61f3e223-3dd4-4165-d288-d081a2f5044e"
      },
      "execution_count": 11,
      "outputs": [
        {
          "output_type": "execute_result",
          "data": {
            "text/plain": [
              "3"
            ]
          },
          "metadata": {},
          "execution_count": 11
        }
      ]
    },
    {
      "cell_type": "markdown",
      "source": [
        "### การสร้าง `list()`"
      ],
      "metadata": {
        "id": "WXhCvzqs9cP1"
      }
    },
    {
      "cell_type": "code",
      "source": [
        "list_x1 = [] #แบบที่ 1\n",
        "list_x2 = list() #แบบที่ 2"
      ],
      "metadata": {
        "id": "pODfscA29I7l"
      },
      "execution_count": 12,
      "outputs": []
    },
    {
      "cell_type": "code",
      "source": [
        "print(list_x1)  #จะแสดง Output ทั้งสองอัน\n",
        "print(list_x2)"
      ],
      "metadata": {
        "colab": {
          "base_uri": "https://localhost:8080/"
        },
        "id": "QKpV0ZVL9zi3",
        "outputId": "295eca18-f4e8-4679-ffba-19bf08f31f0b"
      },
      "execution_count": 13,
      "outputs": [
        {
          "output_type": "stream",
          "name": "stdout",
          "text": [
            "[]\n",
            "[]\n"
          ]
        }
      ]
    },
    {
      "cell_type": "markdown",
      "source": [
        "### เพิ่มสมาชิกเข้าไปใน list ด้วย `append()`"
      ],
      "metadata": {
        "id": "Vg2cKVsP-MOs"
      }
    },
    {
      "cell_type": "code",
      "source": [
        "list_x1.append(2)  #เพิ่ม 2 ลงใน list"
      ],
      "metadata": {
        "id": "tLK4BsKr96O8"
      },
      "execution_count": 14,
      "outputs": []
    },
    {
      "cell_type": "code",
      "source": [
        "list_x1"
      ],
      "metadata": {
        "colab": {
          "base_uri": "https://localhost:8080/"
        },
        "id": "fZ9ORgYm-jNT",
        "outputId": "59619598-bd8b-43b8-dd59-13a94801591e"
      },
      "execution_count": 15,
      "outputs": [
        {
          "output_type": "execute_result",
          "data": {
            "text/plain": [
              "[2]"
            ]
          },
          "metadata": {},
          "execution_count": 15
        }
      ]
    },
    {
      "cell_type": "code",
      "source": [
        "list_x1.append(4)\n",
        "print(list_x1)"
      ],
      "metadata": {
        "colab": {
          "base_uri": "https://localhost:8080/"
        },
        "id": "bE4bVjX4-ok3",
        "outputId": "1d27e7ed-b3aa-485c-bd60-a47494843c26"
      },
      "execution_count": 16,
      "outputs": [
        {
          "output_type": "stream",
          "name": "stdout",
          "text": [
            "[2, 4]\n"
          ]
        }
      ]
    },
    {
      "cell_type": "code",
      "source": [
        "list_x1[0]  #ชี้สมาชิกตัวแรกใน list"
      ],
      "metadata": {
        "colab": {
          "base_uri": "https://localhost:8080/"
        },
        "id": "Z2TzeeWg--BS",
        "outputId": "7e6f38e6-c3e4-4a11-c369-1760906b4191"
      },
      "execution_count": 17,
      "outputs": [
        {
          "output_type": "execute_result",
          "data": {
            "text/plain": [
              "2"
            ]
          },
          "metadata": {},
          "execution_count": 17
        }
      ]
    },
    {
      "cell_type": "code",
      "source": [
        "list_x1[-1]"
      ],
      "metadata": {
        "colab": {
          "base_uri": "https://localhost:8080/"
        },
        "id": "8g8U8HLt_Cpj",
        "outputId": "fead0cd8-966c-48a4-ee3b-72aee28b9665"
      },
      "execution_count": 18,
      "outputs": [
        {
          "output_type": "execute_result",
          "data": {
            "text/plain": [
              "4"
            ]
          },
          "metadata": {},
          "execution_count": 18
        }
      ]
    },
    {
      "cell_type": "code",
      "source": [
        "list_x2"
      ],
      "metadata": {
        "colab": {
          "base_uri": "https://localhost:8080/"
        },
        "id": "7EkHtA5H_E0q",
        "outputId": "0ded9862-ca00-4550-d8f7-6aace846624b"
      },
      "execution_count": 19,
      "outputs": [
        {
          "output_type": "execute_result",
          "data": {
            "text/plain": [
              "[]"
            ]
          },
          "metadata": {},
          "execution_count": 19
        }
      ]
    },
    {
      "cell_type": "code",
      "source": [
        "list_x2.append('ha') #เพิ่ม ha ลงใน list"
      ],
      "metadata": {
        "id": "zeUY2s1__Qiz"
      },
      "execution_count": 20,
      "outputs": []
    },
    {
      "cell_type": "code",
      "source": [
        "list_x2"
      ],
      "metadata": {
        "colab": {
          "base_uri": "https://localhost:8080/"
        },
        "id": "AKdqAgmC_o2N",
        "outputId": "5898629c-08ab-4064-f9ca-4debe04a8012"
      },
      "execution_count": 21,
      "outputs": [
        {
          "output_type": "execute_result",
          "data": {
            "text/plain": [
              "['ha']"
            ]
          },
          "metadata": {},
          "execution_count": 21
        }
      ]
    },
    {
      "cell_type": "markdown",
      "source": [
        "### ลบสมาชิกจาก list"
      ],
      "metadata": {
        "id": "0cvfn7OaALNq"
      }
    },
    {
      "cell_type": "code",
      "source": [
        "list_x1.append('ha')"
      ],
      "metadata": {
        "id": "xIKSfa96_t22"
      },
      "execution_count": 22,
      "outputs": []
    },
    {
      "cell_type": "code",
      "source": [
        "list_x1"
      ],
      "metadata": {
        "colab": {
          "base_uri": "https://localhost:8080/"
        },
        "id": "ZRIh1wqS__nU",
        "outputId": "f244eeae-bf80-467f-be74-bb86ea48b629"
      },
      "execution_count": 23,
      "outputs": [
        {
          "output_type": "execute_result",
          "data": {
            "text/plain": [
              "[2, 4, 'ha']"
            ]
          },
          "metadata": {},
          "execution_count": 23
        }
      ]
    },
    {
      "cell_type": "code",
      "source": [
        "list_x1.pop() #ลบสมาชิกใน list"
      ],
      "metadata": {
        "colab": {
          "base_uri": "https://localhost:8080/",
          "height": 35
        },
        "id": "3kkxkwueABx7",
        "outputId": "5eb9762b-9532-41b0-c3e4-ffbecb6d0e6f"
      },
      "execution_count": 24,
      "outputs": [
        {
          "output_type": "execute_result",
          "data": {
            "application/vnd.google.colaboratory.intrinsic+json": {
              "type": "string"
            },
            "text/plain": [
              "'ha'"
            ]
          },
          "metadata": {},
          "execution_count": 24
        }
      ]
    },
    {
      "cell_type": "code",
      "source": [
        "list_x1"
      ],
      "metadata": {
        "colab": {
          "base_uri": "https://localhost:8080/"
        },
        "id": "ZYqe5bbpAGlA",
        "outputId": "53685b59-9328-4100-a05f-07383bd81456"
      },
      "execution_count": 25,
      "outputs": [
        {
          "output_type": "execute_result",
          "data": {
            "text/plain": [
              "[2, 4]"
            ]
          },
          "metadata": {},
          "execution_count": 25
        }
      ]
    },
    {
      "cell_type": "code",
      "source": [
        "list_x1.pop()\n",
        "print(list_x1)"
      ],
      "metadata": {
        "colab": {
          "base_uri": "https://localhost:8080/"
        },
        "id": "iCohgoCOAI-D",
        "outputId": "e371f970-31ed-4684-fe40-3781a5643403"
      },
      "execution_count": 26,
      "outputs": [
        {
          "output_type": "stream",
          "name": "stdout",
          "text": [
            "[2]\n"
          ]
        }
      ]
    },
    {
      "cell_type": "markdown",
      "source": [
        "### `len()` ตรวจสอบจำนวนสมาชิกของ list"
      ],
      "metadata": {
        "id": "Wbq2O2IAB4zi"
      }
    },
    {
      "cell_type": "code",
      "source": [
        "print(list_b)\n",
        "print(len(list_b))"
      ],
      "metadata": {
        "colab": {
          "base_uri": "https://localhost:8080/"
        },
        "id": "lZzBhX4XAisR",
        "outputId": "a51d6eed-868c-43cb-9313-3d82d1b6a4a8"
      },
      "execution_count": 27,
      "outputs": [
        {
          "output_type": "stream",
          "name": "stdout",
          "text": [
            "['ab', 2, 3.14, [1, 2, 3, 4, 5, 6]]\n",
            "4\n"
          ]
        }
      ]
    },
    {
      "cell_type": "code",
      "source": [
        "len(list_a) #แสดงจำนวนสมาชิก"
      ],
      "metadata": {
        "colab": {
          "base_uri": "https://localhost:8080/"
        },
        "id": "77VNOB0nCIM-",
        "outputId": "cbd2bbbb-a2ca-40de-9640-e0204dc19c71"
      },
      "execution_count": 28,
      "outputs": [
        {
          "output_type": "execute_result",
          "data": {
            "text/plain": [
              "6"
            ]
          },
          "metadata": {},
          "execution_count": 28
        }
      ]
    },
    {
      "cell_type": "markdown",
      "source": [
        "### String is a list of characters"
      ],
      "metadata": {
        "id": "Bw7eQp_KCdJL"
      }
    },
    {
      "cell_type": "code",
      "source": [
        "st_stat = 'Department of Statistics, Faculty of Science' #string"
      ],
      "metadata": {
        "id": "24wvDlOwCPnt"
      },
      "execution_count": 29,
      "outputs": []
    },
    {
      "cell_type": "code",
      "source": [
        "st_stat[10] #สมาชิกตัวที่ 10"
      ],
      "metadata": {
        "colab": {
          "base_uri": "https://localhost:8080/",
          "height": 35
        },
        "id": "r6z72rPDC9j7",
        "outputId": "8312ce80-cae2-46dc-e226-cb9f7d776fdf"
      },
      "execution_count": 30,
      "outputs": [
        {
          "output_type": "execute_result",
          "data": {
            "application/vnd.google.colaboratory.intrinsic+json": {
              "type": "string"
            },
            "text/plain": [
              "' '"
            ]
          },
          "metadata": {},
          "execution_count": 30
        }
      ]
    },
    {
      "cell_type": "code",
      "source": [
        "len(st_stat)  #จำนวนสมาชิก 44 ตัว"
      ],
      "metadata": {
        "colab": {
          "base_uri": "https://localhost:8080/"
        },
        "id": "ZQskWuy0DGUA",
        "outputId": "b72f46ce-873c-4cb7-f672-9cc0260d99fa"
      },
      "execution_count": 31,
      "outputs": [
        {
          "output_type": "execute_result",
          "data": {
            "text/plain": [
              "44"
            ]
          },
          "metadata": {},
          "execution_count": 31
        }
      ]
    },
    {
      "cell_type": "markdown",
      "source": [
        "### List Slicing `:`"
      ],
      "metadata": {
        "id": "yA0JKu-lDXJy"
      }
    },
    {
      "cell_type": "markdown",
      "source": [
        "   `list[จุดเริ่มต้น (ทึบ):จุดสุดท้าย (โปร่ง)]`\n",
        "\n",
        "   `list[จุดเริ่มต้น (ทึบ):จุดสุดท้าย (โปร่ง):step]`"
      ],
      "metadata": {
        "id": "QURj1fLHESkb"
      }
    },
    {
      "cell_type": "markdown",
      "source": [
        "![Unknown.gif](data:image/gif;base64,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)"
      ],
      "metadata": {
        "id": "MVx6l88aFEKQ"
      }
    },
    {
      "cell_type": "code",
      "source": [
        "list_a"
      ],
      "metadata": {
        "colab": {
          "base_uri": "https://localhost:8080/"
        },
        "id": "T7-0tsyrDNPc",
        "outputId": "4605ecde-083a-4a37-f208-ecc1adca32f6"
      },
      "execution_count": 32,
      "outputs": [
        {
          "output_type": "execute_result",
          "data": {
            "text/plain": [
              "[1, 2, 3, 4, 5, 6]"
            ]
          },
          "metadata": {},
          "execution_count": 32
        }
      ]
    },
    {
      "cell_type": "code",
      "source": [
        "list_a[2] #เอาสมาชิกตัวที่ 2 ใน list"
      ],
      "metadata": {
        "colab": {
          "base_uri": "https://localhost:8080/"
        },
        "id": "OAs8jaEADvko",
        "outputId": "0e294096-6514-418b-d13c-8722a8b4077c"
      },
      "execution_count": 33,
      "outputs": [
        {
          "output_type": "execute_result",
          "data": {
            "text/plain": [
              "3"
            ]
          },
          "metadata": {},
          "execution_count": 33
        }
      ]
    },
    {
      "cell_type": "markdown",
      "source": [
        "#### `:` colon"
      ],
      "metadata": {
        "id": "OeHSNzKOGx96"
      }
    },
    {
      "cell_type": "code",
      "source": [
        "list_a[-3:]  #สมาชิก 3 ตัวสุดท้าย"
      ],
      "metadata": {
        "colab": {
          "base_uri": "https://localhost:8080/"
        },
        "id": "WxRIaR3zD2hz",
        "outputId": "35f9a3ba-1507-40ed-a423-a9bace2fcbc7"
      },
      "execution_count": 34,
      "outputs": [
        {
          "output_type": "execute_result",
          "data": {
            "text/plain": [
              "[4, 5, 6]"
            ]
          },
          "metadata": {},
          "execution_count": 34
        }
      ]
    },
    {
      "cell_type": "code",
      "source": [
        "list_a[:4] #สมาชิก 4 ตัวแรก"
      ],
      "metadata": {
        "colab": {
          "base_uri": "https://localhost:8080/"
        },
        "id": "jxLswEA4GQRg",
        "outputId": "45cc136d-2112-4150-e955-3123a045190f"
      },
      "execution_count": 35,
      "outputs": [
        {
          "output_type": "execute_result",
          "data": {
            "text/plain": [
              "[1, 2, 3, 4]"
            ]
          },
          "metadata": {},
          "execution_count": 35
        }
      ]
    },
    {
      "cell_type": "code",
      "source": [
        "list_a[1:4] #เอาสมาชิกตัวที่ 1 ถึงตัวที่ 3"
      ],
      "metadata": {
        "colab": {
          "base_uri": "https://localhost:8080/"
        },
        "id": "Ik0sSBufEOW6",
        "outputId": "6b4bdaf2-ffc8-4bbf-915d-68f6643cd7a5"
      },
      "execution_count": 36,
      "outputs": [
        {
          "output_type": "execute_result",
          "data": {
            "text/plain": [
              "[2, 3, 4]"
            ]
          },
          "metadata": {},
          "execution_count": 36
        }
      ]
    },
    {
      "cell_type": "code",
      "source": [
        "list_a[:]  #เอาสมาชิกทุกตัว"
      ],
      "metadata": {
        "colab": {
          "base_uri": "https://localhost:8080/"
        },
        "id": "QzAGuQoEFsy-",
        "outputId": "9011e133-4db0-41e2-d5b1-0b6f9ef93680"
      },
      "execution_count": 37,
      "outputs": [
        {
          "output_type": "execute_result",
          "data": {
            "text/plain": [
              "[1, 2, 3, 4, 5, 6]"
            ]
          },
          "metadata": {},
          "execution_count": 37
        }
      ]
    },
    {
      "cell_type": "markdown",
      "source": [
        "#### step"
      ],
      "metadata": {
        "id": "GTmRipq9Guu8"
      }
    },
    {
      "cell_type": "code",
      "source": [
        "list_c = [1,2,3,4,5,6,7,8,9,10,11,12,13]"
      ],
      "metadata": {
        "id": "EaImnrlLGl0Q"
      },
      "execution_count": 38,
      "outputs": []
    },
    {
      "cell_type": "code",
      "source": [
        "list_c[:10:] #สมาชิก 10 ตัวแรก"
      ],
      "metadata": {
        "colab": {
          "base_uri": "https://localhost:8080/"
        },
        "id": "_TeWd9beG9nH",
        "outputId": "49f7540f-491a-4b50-d8c8-34cf4487a32b"
      },
      "execution_count": 39,
      "outputs": [
        {
          "output_type": "execute_result",
          "data": {
            "text/plain": [
              "[1, 2, 3, 4, 5, 6, 7, 8, 9, 10]"
            ]
          },
          "metadata": {},
          "execution_count": 39
        }
      ]
    },
    {
      "cell_type": "code",
      "source": [
        "list_c[:10:2] #สมาชิก 10 ตัวแรก กระโดดทีละ 2"
      ],
      "metadata": {
        "colab": {
          "base_uri": "https://localhost:8080/"
        },
        "id": "1w0nqO1fHKO4",
        "outputId": "50476ac5-2a09-472a-9cd6-2621230d12d1"
      },
      "execution_count": 40,
      "outputs": [
        {
          "output_type": "execute_result",
          "data": {
            "text/plain": [
              "[1, 3, 5, 7, 9]"
            ]
          },
          "metadata": {},
          "execution_count": 40
        }
      ]
    },
    {
      "cell_type": "code",
      "source": [
        "list_c[::-1]"
      ],
      "metadata": {
        "colab": {
          "base_uri": "https://localhost:8080/"
        },
        "id": "P_YQgICHHVBX",
        "outputId": "da154b19-42a9-4f50-8aca-202e1094a27d"
      },
      "execution_count": 41,
      "outputs": [
        {
          "output_type": "execute_result",
          "data": {
            "text/plain": [
              "[13, 12, 11, 10, 9, 8, 7, 6, 5, 4, 3, 2, 1]"
            ]
          },
          "metadata": {},
          "execution_count": 41
        }
      ]
    },
    {
      "cell_type": "markdown",
      "source": [
        "### `range()`"
      ],
      "metadata": {
        "id": "07ytSlzXHzr-"
      }
    },
    {
      "cell_type": "code",
      "source": [
        "range(21)"
      ],
      "metadata": {
        "colab": {
          "base_uri": "https://localhost:8080/"
        },
        "id": "7qrYF8JsIK0Z",
        "outputId": "7112dc7c-8153-44e7-8b78-0aa68a7be8d7"
      },
      "execution_count": 42,
      "outputs": [
        {
          "output_type": "execute_result",
          "data": {
            "text/plain": [
              "range(0, 21)"
            ]
          },
          "metadata": {},
          "execution_count": 42
        }
      ]
    },
    {
      "cell_type": "code",
      "source": [
        "a = list(range(21))"
      ],
      "metadata": {
        "id": "JFBVj3HqHdly"
      },
      "execution_count": 43,
      "outputs": []
    },
    {
      "cell_type": "code",
      "source": [
        "a"
      ],
      "metadata": {
        "colab": {
          "base_uri": "https://localhost:8080/"
        },
        "id": "ZT38_fCIIGYm",
        "outputId": "d8ec4ea0-f17e-4d37-e82d-a30c3269c388"
      },
      "execution_count": 44,
      "outputs": [
        {
          "output_type": "execute_result",
          "data": {
            "text/plain": [
              "[0, 1, 2, 3, 4, 5, 6, 7, 8, 9, 10, 11, 12, 13, 14, 15, 16, 17, 18, 19, 20]"
            ]
          },
          "metadata": {},
          "execution_count": 44
        }
      ]
    },
    {
      "cell_type": "code",
      "source": [
        "list(range(1,21))  #ใช้เลข 1 และ 21 ในการกำหนดสมาชิกจะได้ไม่ต้องพิมพ์ให้เหนื่อย"
      ],
      "metadata": {
        "colab": {
          "base_uri": "https://localhost:8080/"
        },
        "id": "nUcqhwT_IHDC",
        "outputId": "a9c409d5-5d3e-42ed-aeec-662bdc12656a"
      },
      "execution_count": 45,
      "outputs": [
        {
          "output_type": "execute_result",
          "data": {
            "text/plain": [
              "[1, 2, 3, 4, 5, 6, 7, 8, 9, 10, 11, 12, 13, 14, 15, 16, 17, 18, 19, 20]"
            ]
          },
          "metadata": {},
          "execution_count": 45
        }
      ]
    },
    {
      "cell_type": "markdown",
      "source": [
        "#HW2 คำนวณเวลาเป็นวินาทีของเวลาต่อไปนี้โดยใช้คำสั่ง split() ช่วย (print ออกมาให้สวยงาม)\n",
        "\n",
        "- 12:30:15\n",
        "- 13:41:07\n",
        "- 09:11:50\n",
        "- 21:30:15\n",
        "- 03:10:15"
      ],
      "metadata": {
        "id": "XRSDkVF9I9qE"
      }
    },
    {
      "cell_type": "code",
      "source": [
        "h1 = '12:30:15'\n",
        "h1_sp = h1.split(':')\n",
        "ans1 = int(h1_sp[0])*3600 + int(h1_sp[1])*60 + int(h1_sp[2])\n",
        "print(f'เวลา {h1} แปลงเป็นจำนวนวินาทีได้เท่ากับ {ans1} วินาที')"
      ],
      "metadata": {
        "id": "Fx1DVqy1Jull",
        "colab": {
          "base_uri": "https://localhost:8080/"
        },
        "outputId": "94447756-fae6-4dd4-b459-77b8c54f8756"
      },
      "execution_count": 46,
      "outputs": [
        {
          "output_type": "stream",
          "name": "stdout",
          "text": [
            "เวลา 12:30:15 แปลงเป็นจำนวนวินาทีได้เท่ากับ 45015 วินาที\n"
          ]
        }
      ]
    },
    {
      "cell_type": "code",
      "source": [
        "h2 = '13:41:07'\n",
        "h2_sp = h2.split(':')\n",
        "ans2 = int(h2_sp[0])*3600 + int(h2_sp[1])*60 + int(h2_sp[2])\n",
        "print(f'เวลา {h2} แปลงเป็นจำนวนวินาทีได้เท่ากับ {ans2} วินาที')"
      ],
      "metadata": {
        "colab": {
          "base_uri": "https://localhost:8080/"
        },
        "id": "1f-ugxGa9iAV",
        "outputId": "06dcacf9-757f-4b2f-bf63-681fe55a2f1b"
      },
      "execution_count": 47,
      "outputs": [
        {
          "output_type": "stream",
          "name": "stdout",
          "text": [
            "เวลา 13:41:07 แปลงเป็นจำนวนวินาทีได้เท่ากับ 49267 วินาที\n"
          ]
        }
      ]
    },
    {
      "cell_type": "code",
      "source": [
        "h3 = '09:11:50'\n",
        "h3_sp = h3.split(':')\n",
        "ans3 = int(h3_sp[0])*3600 + int(h3_sp[1])*60 + int(h3_sp[2])\n",
        "print(f'เวลา {h3} แปลงเป็นจำนวนวินาทีได้เท่ากับ {ans3} วินาที')"
      ],
      "metadata": {
        "colab": {
          "base_uri": "https://localhost:8080/"
        },
        "id": "6DT9SDUVFJq8",
        "outputId": "cd9646d8-610f-4ca3-ea7a-7fe3639e8b68"
      },
      "execution_count": 48,
      "outputs": [
        {
          "output_type": "stream",
          "name": "stdout",
          "text": [
            "เวลา 09:11:50 แปลงเป็นจำนวนวินาทีได้เท่ากับ 33110 วินาที\n"
          ]
        }
      ]
    },
    {
      "cell_type": "code",
      "source": [
        "h4 = '21:30:15'\n",
        "h4_sp = h4.split(':')\n",
        "ans4 = int(h4_sp[0])*3600 + int(h4_sp[1])*60 + int(h4_sp[2])\n",
        "print(f'เวลา {h4} แปลงเป็นจำนวนวินาทีได้เท่ากับ {ans4} วินาที')"
      ],
      "metadata": {
        "colab": {
          "base_uri": "https://localhost:8080/"
        },
        "id": "NBxALWVzFMyr",
        "outputId": "fc894053-db5a-4f7f-9f77-9ec7a7e0dd77"
      },
      "execution_count": 49,
      "outputs": [
        {
          "output_type": "stream",
          "name": "stdout",
          "text": [
            "เวลา 21:30:15 แปลงเป็นจำนวนวินาทีได้เท่ากับ 77415 วินาที\n"
          ]
        }
      ]
    },
    {
      "cell_type": "code",
      "source": [
        "h5 = '03:10:15'\n",
        "h5_sp = h5.split(':')\n",
        "ans5 = int(h5_sp[0])*3600 + int(h5_sp[1])*60 + int(h5_sp[2])\n",
        "print(f'เวลา {h5} แปลงเป็นจำนวนวินาทีได้เท่ากับ {ans5} วินาที')"
      ],
      "metadata": {
        "colab": {
          "base_uri": "https://localhost:8080/"
        },
        "id": "dztQUncXFPIn",
        "outputId": "caa13df9-98f8-4bca-9cc7-6b3c766a52da"
      },
      "execution_count": 50,
      "outputs": [
        {
          "output_type": "stream",
          "name": "stdout",
          "text": [
            "เวลา 03:10:15 แปลงเป็นจำนวนวินาทีได้เท่ากับ 11415 วินาที\n"
          ]
        }
      ]
    },
    {
      "cell_type": "markdown",
      "source": [
        "print แบบใส่ ลูกน้ำ"
      ],
      "metadata": {
        "id": "Oo7ZroTmOUZ4"
      }
    },
    {
      "cell_type": "markdown",
      "source": [
        "#Dictionary"
      ],
      "metadata": {
        "id": "Z3_0JZMNObfs"
      }
    },
    {
      "cell_type": "markdown",
      "source": [
        "\n",
        "\n",
        "*   คล้าย list\n",
        "*   index(ตัวชี้) เป็นอะไรก็ได้ ไม่จำเป็นต้องเป็นตัวเลขลำดับ\n",
        "\n",
        "\n",
        "\n",
        "\n",
        "*   ลำดับไม่มีความสำคัญ"
      ],
      "metadata": {
        "id": "T-cmzyd6O-uQ"
      }
    },
    {
      "cell_type": "markdown",
      "source": [
        "### สร้าง Dictionary"
      ],
      "metadata": {
        "id": "u8s0Dx4AQrtR"
      }
    },
    {
      "cell_type": "code",
      "source": [
        "dict_a = {1:'Happy', 'N':'New','2022':'Year'}  #curly brackets"
      ],
      "metadata": {
        "id": "mNv2YeIQOZBZ"
      },
      "execution_count": 51,
      "outputs": []
    },
    {
      "cell_type": "markdown",
      "source": [
        "### การชี้สมาชิกใน Dictionary"
      ],
      "metadata": {
        "id": "rBQN80G7QwvX"
      }
    },
    {
      "cell_type": "code",
      "source": [
        "dict_a[1]"
      ],
      "metadata": {
        "id": "mensfpRZQQ6Z",
        "outputId": "9de70184-ddae-4396-ba40-ecd6ead21923",
        "colab": {
          "base_uri": "https://localhost:8080/",
          "height": 35
        }
      },
      "execution_count": 52,
      "outputs": [
        {
          "output_type": "execute_result",
          "data": {
            "application/vnd.google.colaboratory.intrinsic+json": {
              "type": "string"
            },
            "text/plain": [
              "'Happy'"
            ]
          },
          "metadata": {},
          "execution_count": 52
        }
      ]
    },
    {
      "cell_type": "code",
      "source": [
        "dict_a['N']"
      ],
      "metadata": {
        "id": "Iv_3WfRpQUSX",
        "outputId": "0f719da8-df2a-41fb-df79-9a5ee4261442",
        "colab": {
          "base_uri": "https://localhost:8080/",
          "height": 35
        }
      },
      "execution_count": 53,
      "outputs": [
        {
          "output_type": "execute_result",
          "data": {
            "application/vnd.google.colaboratory.intrinsic+json": {
              "type": "string"
            },
            "text/plain": [
              "'New'"
            ]
          },
          "metadata": {},
          "execution_count": 53
        }
      ]
    },
    {
      "cell_type": "code",
      "source": [
        "dict_a.keys()"
      ],
      "metadata": {
        "id": "D2S4WfRwQcMd",
        "outputId": "fae2e1c5-cff9-4408-8b4c-1499b270affb",
        "colab": {
          "base_uri": "https://localhost:8080/"
        }
      },
      "execution_count": 54,
      "outputs": [
        {
          "output_type": "execute_result",
          "data": {
            "text/plain": [
              "dict_keys([1, 'N', '2022'])"
            ]
          },
          "metadata": {},
          "execution_count": 54
        }
      ]
    },
    {
      "cell_type": "code",
      "source": [
        "dict_a.values()  #ดู values"
      ],
      "metadata": {
        "id": "Q8__-xFeQhQL",
        "outputId": "91754f0e-a81b-4e69-c229-565536e588b4",
        "colab": {
          "base_uri": "https://localhost:8080/"
        }
      },
      "execution_count": 55,
      "outputs": [
        {
          "output_type": "execute_result",
          "data": {
            "text/plain": [
              "dict_values(['Happy', 'New', 'Year'])"
            ]
          },
          "metadata": {},
          "execution_count": 55
        }
      ]
    },
    {
      "cell_type": "markdown",
      "source": [
        "### การเพิ่มสมาชิกลงใน Dictionary"
      ],
      "metadata": {
        "id": "oDG9HyEgQ3il"
      }
    },
    {
      "cell_type": "code",
      "source": [
        "dict_a[7] = 3.14"
      ],
      "metadata": {
        "id": "4Zxdb_skQlcU"
      },
      "execution_count": 56,
      "outputs": []
    },
    {
      "cell_type": "code",
      "source": [
        "dict_a"
      ],
      "metadata": {
        "id": "cxWnVauMRDyy",
        "outputId": "b822f034-13c5-420b-c7fa-691b2f30029f",
        "colab": {
          "base_uri": "https://localhost:8080/"
        }
      },
      "execution_count": 57,
      "outputs": [
        {
          "output_type": "execute_result",
          "data": {
            "text/plain": [
              "{1: 'Happy', '2022': 'Year', 7: 3.14, 'N': 'New'}"
            ]
          },
          "metadata": {},
          "execution_count": 57
        }
      ]
    },
    {
      "cell_type": "code",
      "source": [
        "dict_a['N'] = 'NNNNEEEEWWWW'"
      ],
      "metadata": {
        "id": "aneQ9Z5SRHps"
      },
      "execution_count": 58,
      "outputs": []
    },
    {
      "cell_type": "code",
      "source": [
        "dict_a  #ใช้ index ซ้ำ จะไปอัพเดตอันเดิม"
      ],
      "metadata": {
        "id": "r-T1jLgjRaCo",
        "outputId": "04ded7c6-54ee-4f9e-f2d3-16b8f148a99e",
        "colab": {
          "base_uri": "https://localhost:8080/"
        }
      },
      "execution_count": 59,
      "outputs": [
        {
          "output_type": "execute_result",
          "data": {
            "text/plain": [
              "{1: 'Happy', '2022': 'Year', 7: 3.14, 'N': 'NNNNEEEEWWWW'}"
            ]
          },
          "metadata": {},
          "execution_count": 59
        }
      ]
    },
    {
      "cell_type": "markdown",
      "source": [
        "#Numpy Array"
      ],
      "metadata": {
        "id": "fCzRDc_KOnol"
      }
    },
    {
      "cell_type": "markdown",
      "source": [
        "![numpy_arrays-1024x572.png](data:image/png;base64,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)"
      ],
      "metadata": {
        "id": "C5lhlnP2Sj7I"
      }
    },
    {
      "cell_type": "markdown",
      "source": [
        "แถวแนวนอน   หลักแนวตั้ง\n",
        "\n",
        "Numpy มีกี่ Dimension ก็ได้\n",
        "\n",
        "\n",
        "*   เก็บได้แต่ตัวเลข\n",
        "*   อ้างอิงโดยใช้ พิกัด  (2 มิติ ก็มองเป็น matrix)\n",
        "\n"
      ],
      "metadata": {
        "id": "p08beXivTCPa"
      }
    },
    {
      "cell_type": "markdown",
      "source": [
        "### 1D array"
      ],
      "metadata": {
        "id": "JLSWjTCOX4dN"
      }
    },
    {
      "cell_type": "code",
      "source": [
        "import numpy  #ใช้ package  numpy"
      ],
      "metadata": {
        "id": "4nxzJMmBRhM1"
      },
      "execution_count": 60,
      "outputs": []
    },
    {
      "cell_type": "code",
      "source": [
        "list_A = [1,2,3,4,5]"
      ],
      "metadata": {
        "id": "gcGehk4KWbmY"
      },
      "execution_count": 61,
      "outputs": []
    },
    {
      "cell_type": "code",
      "source": [
        "list_A"
      ],
      "metadata": {
        "id": "QxZ5K_urWhDz",
        "outputId": "f4516ee1-c7d4-4155-ae0c-ead44fcad6ab",
        "colab": {
          "base_uri": "https://localhost:8080/"
        }
      },
      "execution_count": 62,
      "outputs": [
        {
          "output_type": "execute_result",
          "data": {
            "text/plain": [
              "[1, 2, 3, 4, 5]"
            ]
          },
          "metadata": {},
          "execution_count": 62
        }
      ]
    },
    {
      "cell_type": "code",
      "source": [
        "arr_a = numpy.array(list_A) #ใช้ list ก็ได้ผลลัพธ์เหมือนกัน แต่ คุณสมบัติต่างกัน"
      ],
      "metadata": {
        "id": "lP2Zri8lWs0P"
      },
      "execution_count": 63,
      "outputs": []
    },
    {
      "cell_type": "code",
      "source": [
        "arr_a = numpy.array([1,2,3,4,5]) #แปลงจาก list เป็น array  #สร้าง list"
      ],
      "metadata": {
        "id": "_vspeKGTVEXA"
      },
      "execution_count": 64,
      "outputs": []
    },
    {
      "cell_type": "code",
      "source": [
        "arr_a"
      ],
      "metadata": {
        "id": "698ZRJl6VYRa",
        "outputId": "bd743eee-33eb-4d4a-a329-a84a978af428",
        "colab": {
          "base_uri": "https://localhost:8080/"
        }
      },
      "execution_count": 65,
      "outputs": [
        {
          "output_type": "execute_result",
          "data": {
            "text/plain": [
              "array([1, 2, 3, 4, 5])"
            ]
          },
          "metadata": {},
          "execution_count": 65
        }
      ]
    },
    {
      "cell_type": "code",
      "source": [
        "arr_a[0]  #สมาชิกตัวแรก"
      ],
      "metadata": {
        "id": "nP-dZPS7VcBZ",
        "outputId": "d6d8f465-f41c-405b-aa3e-cac58bd15719",
        "colab": {
          "base_uri": "https://localhost:8080/"
        }
      },
      "execution_count": 66,
      "outputs": [
        {
          "output_type": "execute_result",
          "data": {
            "text/plain": [
              "1"
            ]
          },
          "metadata": {},
          "execution_count": 66
        }
      ]
    },
    {
      "cell_type": "code",
      "source": [
        "5 * arr_a  #Matrix (scalar  multiplication)"
      ],
      "metadata": {
        "id": "FnczGLfNV3O5",
        "outputId": "44f14adf-2fd2-45ba-971e-8baf5081681d",
        "colab": {
          "base_uri": "https://localhost:8080/"
        }
      },
      "execution_count": 67,
      "outputs": [
        {
          "output_type": "execute_result",
          "data": {
            "text/plain": [
              "array([ 5, 10, 15, 20, 25])"
            ]
          },
          "metadata": {},
          "execution_count": 67
        }
      ]
    },
    {
      "cell_type": "code",
      "source": [
        "5*list_A  #ซ้ำกัน คูณไม่ได้"
      ],
      "metadata": {
        "id": "QPAPRXjnWV8c",
        "outputId": "e70a78ce-a82a-43e4-9ca3-9452b4f3c4ff",
        "colab": {
          "base_uri": "https://localhost:8080/"
        }
      },
      "execution_count": 68,
      "outputs": [
        {
          "output_type": "execute_result",
          "data": {
            "text/plain": [
              "[1, 2, 3, 4, 5, 1, 2, 3, 4, 5, 1, 2, 3, 4, 5, 1, 2, 3, 4, 5, 1, 2, 3, 4, 5]"
            ]
          },
          "metadata": {},
          "execution_count": 68
        }
      ]
    },
    {
      "cell_type": "code",
      "source": [
        "arr_b = numpy.array([10,20,30,40,50])"
      ],
      "metadata": {
        "id": "88RxzrGRXNhV"
      },
      "execution_count": 69,
      "outputs": []
    },
    {
      "cell_type": "code",
      "source": [
        "print(arr_a)"
      ],
      "metadata": {
        "id": "9ex0O59KXZ8L",
        "outputId": "c0f0751b-17f7-43a8-ce06-06ff3acfbbfd",
        "colab": {
          "base_uri": "https://localhost:8080/"
        }
      },
      "execution_count": 70,
      "outputs": [
        {
          "output_type": "stream",
          "name": "stdout",
          "text": [
            "[1 2 3 4 5]\n"
          ]
        }
      ]
    },
    {
      "cell_type": "code",
      "source": [
        "arr_a + arr_b  #บวก matrix เอาตำแหน่งเดียวกันมาบวกกัน"
      ],
      "metadata": {
        "id": "hS7EWiSoXe6h",
        "outputId": "d1acb012-1394-40a8-9862-24f398b4dbd4",
        "colab": {
          "base_uri": "https://localhost:8080/"
        }
      },
      "execution_count": 71,
      "outputs": [
        {
          "output_type": "execute_result",
          "data": {
            "text/plain": [
              "array([11, 22, 33, 44, 55])"
            ]
          },
          "metadata": {},
          "execution_count": 71
        }
      ]
    },
    {
      "cell_type": "code",
      "source": [
        "arr_a.shape"
      ],
      "metadata": {
        "id": "8SzaXBXbZhZx",
        "outputId": "8763c7c3-ff40-4f6d-b0e0-2322500df380",
        "colab": {
          "base_uri": "https://localhost:8080/"
        }
      },
      "execution_count": 72,
      "outputs": [
        {
          "output_type": "execute_result",
          "data": {
            "text/plain": [
              "(5,)"
            ]
          },
          "metadata": {},
          "execution_count": 72
        }
      ]
    },
    {
      "cell_type": "markdown",
      "source": [
        "### 2D array"
      ],
      "metadata": {
        "id": "p6fY4diHXwpw"
      }
    },
    {
      "cell_type": "code",
      "source": [
        "import numpy as np"
      ],
      "metadata": {
        "id": "k8mUb4lXYDk3"
      },
      "execution_count": 73,
      "outputs": []
    },
    {
      "cell_type": "code",
      "source": [
        "arr2_z = np.array([[1,2,3],[4,5,6]]) # list ซ้อน list  "
      ],
      "metadata": {
        "id": "TqLM6NQdXuYM"
      },
      "execution_count": 74,
      "outputs": []
    },
    {
      "cell_type": "code",
      "source": [
        "arr2_z #2 แถว 3 หลัก"
      ],
      "metadata": {
        "id": "iC9rcciEY19h",
        "outputId": "16bae24f-02b9-4548-f49d-a326d4f4c14f",
        "colab": {
          "base_uri": "https://localhost:8080/"
        }
      },
      "execution_count": 75,
      "outputs": [
        {
          "output_type": "execute_result",
          "data": {
            "text/plain": [
              "array([[1, 2, 3],\n",
              "       [4, 5, 6]])"
            ]
          },
          "metadata": {},
          "execution_count": 75
        }
      ]
    },
    {
      "cell_type": "code",
      "source": [
        "arr2_z.shape"
      ],
      "metadata": {
        "id": "_eHPw2S5ZbJ2",
        "outputId": "2962fa34-2d13-49cb-96a8-0e5c56f50e5b",
        "colab": {
          "base_uri": "https://localhost:8080/"
        }
      },
      "execution_count": 76,
      "outputs": [
        {
          "output_type": "execute_result",
          "data": {
            "text/plain": [
              "(2, 3)"
            ]
          },
          "metadata": {},
          "execution_count": 76
        }
      ]
    },
    {
      "cell_type": "markdown",
      "source": [
        "### `np.zeros()`"
      ],
      "metadata": {
        "id": "mXGO3c-kZaLo"
      }
    },
    {
      "cell_type": "code",
      "source": [
        "arr2_3_5_0 = np.zeros((3,5))  #3แถว 5 คอลัมน์\n",
        "arr2_3_5_0"
      ],
      "metadata": {
        "id": "ufSb9JrsZphS",
        "outputId": "dcac7e3c-63c9-43d3-9d66-17382f39179c",
        "colab": {
          "base_uri": "https://localhost:8080/"
        }
      },
      "execution_count": 77,
      "outputs": [
        {
          "output_type": "execute_result",
          "data": {
            "text/plain": [
              "array([[0., 0., 0., 0., 0.],\n",
              "       [0., 0., 0., 0., 0.],\n",
              "       [0., 0., 0., 0., 0.]])"
            ]
          },
          "metadata": {},
          "execution_count": 77
        }
      ]
    },
    {
      "cell_type": "code",
      "source": [
        "arr2_3_5_0[1,2] = 9  #กำหนดค่า #ให้แถวที่1 หลักที่ 2 เป็นเลข 9"
      ],
      "metadata": {
        "id": "Uwqcaw8QaM5y"
      },
      "execution_count": 78,
      "outputs": []
    },
    {
      "cell_type": "code",
      "source": [
        "arr2_3_5_0"
      ],
      "metadata": {
        "id": "RSi7jDGQaZks",
        "outputId": "da6de547-61bd-4328-d400-50fed741538c",
        "colab": {
          "base_uri": "https://localhost:8080/"
        }
      },
      "execution_count": 79,
      "outputs": [
        {
          "output_type": "execute_result",
          "data": {
            "text/plain": [
              "array([[0., 0., 0., 0., 0.],\n",
              "       [0., 0., 9., 0., 0.],\n",
              "       [0., 0., 0., 0., 0.]])"
            ]
          },
          "metadata": {},
          "execution_count": 79
        }
      ]
    },
    {
      "cell_type": "code",
      "source": [
        "arr2_3_5_0[1,2]  #ชี้แถวที่ 1 หลักที่ 2"
      ],
      "metadata": {
        "id": "N3LxC4w1akJS",
        "outputId": "e7a08d36-a84e-4d67-b294-99414cec5918",
        "colab": {
          "base_uri": "https://localhost:8080/"
        }
      },
      "execution_count": 80,
      "outputs": [
        {
          "output_type": "execute_result",
          "data": {
            "text/plain": [
              "9.0"
            ]
          },
          "metadata": {},
          "execution_count": 80
        }
      ]
    },
    {
      "cell_type": "code",
      "source": [
        "print(list_A) #เปลี่ยนค่าใน list()\n",
        "list_A[-1] = 'Christmas'\n",
        "print(list_A)"
      ],
      "metadata": {
        "id": "QoQLMgGnbG-P",
        "outputId": "3600659b-dbdb-4684-da6f-76c6015fdbe6",
        "colab": {
          "base_uri": "https://localhost:8080/"
        }
      },
      "execution_count": 81,
      "outputs": [
        {
          "output_type": "stream",
          "name": "stdout",
          "text": [
            "[1, 2, 3, 4, 5]\n",
            "[1, 2, 3, 4, 'Christmas']\n"
          ]
        }
      ]
    },
    {
      "cell_type": "markdown",
      "source": [
        "### `np.ones()`"
      ],
      "metadata": {
        "id": "4DqdtdK5b3p5"
      }
    },
    {
      "cell_type": "code",
      "source": [
        "arr2_3_5_1 = np.ones((4,5))  #4แถว 5 คอลัมน์"
      ],
      "metadata": {
        "id": "aXVMBegQbwV1"
      },
      "execution_count": 82,
      "outputs": []
    },
    {
      "cell_type": "code",
      "source": [
        "arr2_3_5_1  #เริ่มมาค่าเป็น 1 หมด ต่างจาก np.Zero"
      ],
      "metadata": {
        "id": "HwY6BYgdb7Ax",
        "outputId": "916895a0-e6db-4f4f-bacc-760db6faaef1",
        "colab": {
          "base_uri": "https://localhost:8080/"
        }
      },
      "execution_count": 83,
      "outputs": [
        {
          "output_type": "execute_result",
          "data": {
            "text/plain": [
              "array([[1., 1., 1., 1., 1.],\n",
              "       [1., 1., 1., 1., 1.],\n",
              "       [1., 1., 1., 1., 1.],\n",
              "       [1., 1., 1., 1., 1.]])"
            ]
          },
          "metadata": {},
          "execution_count": 83
        }
      ]
    },
    {
      "cell_type": "code",
      "source": [
        "arr2_4_5_200 = 200 * np.ones((4,5))\n",
        "arr2_4_5_200"
      ],
      "metadata": {
        "id": "MVlK_sUQcGd3",
        "outputId": "b3ca47b9-4b6c-46e6-a3cb-74a7c401d9c9",
        "colab": {
          "base_uri": "https://localhost:8080/"
        }
      },
      "execution_count": 84,
      "outputs": [
        {
          "output_type": "execute_result",
          "data": {
            "text/plain": [
              "array([[200., 200., 200., 200., 200.],\n",
              "       [200., 200., 200., 200., 200.],\n",
              "       [200., 200., 200., 200., 200.],\n",
              "       [200., 200., 200., 200., 200.]])"
            ]
          },
          "metadata": {},
          "execution_count": 84
        }
      ]
    },
    {
      "cell_type": "markdown",
      "source": [
        "### Matrix operations"
      ],
      "metadata": {
        "id": "LUvjGqBHcssM"
      }
    },
    {
      "cell_type": "markdown",
      "source": [
        "#### การบวก ลบ matrix $M \\pm N$ บวกลบตัวที่อยู่ตำแหน่งเดียวกัน"
      ],
      "metadata": {
        "id": "hdX3rrldc693"
      }
    },
    {
      "cell_type": "code",
      "source": [
        "arr2_4_5_200 + arr2_3_5_0#การบวก ลบ matrix  shape ต้องมีขนาดเท่ากัน"
      ],
      "metadata": {
        "id": "JMQGyXYwc6ev",
        "outputId": "d2866f33-a951-412e-ac69-be89fbf2e3f5",
        "colab": {
          "base_uri": "https://localhost:8080/",
          "height": 165
        }
      },
      "execution_count": 85,
      "outputs": [
        {
          "output_type": "error",
          "ename": "ValueError",
          "evalue": "ignored",
          "traceback": [
            "\u001b[0;31m---------------------------------------------------------------------------\u001b[0m",
            "\u001b[0;31mValueError\u001b[0m                                Traceback (most recent call last)",
            "\u001b[0;32m<ipython-input-85-28dde9d8eaf4>\u001b[0m in \u001b[0;36m<module>\u001b[0;34m()\u001b[0m\n\u001b[0;32m----> 1\u001b[0;31m \u001b[0marr2_4_5_200\u001b[0m \u001b[0;34m+\u001b[0m \u001b[0marr2_3_5_0\u001b[0m\u001b[0;31m#การบวก ลบ matrix  shape ต้องมีขนาดเท่ากัน\u001b[0m\u001b[0;34m\u001b[0m\u001b[0;34m\u001b[0m\u001b[0m\n\u001b[0m",
            "\u001b[0;31mValueError\u001b[0m: operands could not be broadcast together with shapes (4,5) (3,5) "
          ]
        }
      ]
    },
    {
      "cell_type": "code",
      "source": [
        "arr2_4_5_200 + arr2_3_5_1"
      ],
      "metadata": {
        "id": "iDbvSKnrddQh",
        "outputId": "51f3e583-01af-474f-9575-58cc391f7edf",
        "colab": {
          "base_uri": "https://localhost:8080/"
        }
      },
      "execution_count": 86,
      "outputs": [
        {
          "output_type": "execute_result",
          "data": {
            "text/plain": [
              "array([[201., 201., 201., 201., 201.],\n",
              "       [201., 201., 201., 201., 201.],\n",
              "       [201., 201., 201., 201., 201.],\n",
              "       [201., 201., 201., 201., 201.]])"
            ]
          },
          "metadata": {},
          "execution_count": 86
        }
      ]
    },
    {
      "cell_type": "markdown",
      "source": [
        "#### การคูณ matrix\n",
        "\n",
        "- $aM$  scalar คูณ Matrix (scalar คูณกระจายเข้าไปทุกตัวของ Matrix)\n",
        "- $M\\times N$ Matrix คูณ Matrix (แถวคูณหลัก)"
      ],
      "metadata": {
        "id": "5HcpxtLPdYzf"
      }
    },
    {
      "cell_type": "markdown",
      "source": [
        "$aM$"
      ],
      "metadata": {
        "id": "oNMTGQshemJ5"
      }
    },
    {
      "cell_type": "markdown",
      "source": [
        "แถวคูณหลัก\n",
        "หลักคูณแถว"
      ],
      "metadata": {
        "id": "t6IAywMgepDZ"
      }
    },
    {
      "cell_type": "code",
      "source": [
        "5 * arr_a #Matrix (scalar  multiplication)"
      ],
      "metadata": {
        "id": "cxO0zq8teWQY",
        "outputId": "8a559f30-e0ee-42f1-e08b-fe56e32b7774",
        "colab": {
          "base_uri": "https://localhost:8080/"
        }
      },
      "execution_count": 87,
      "outputs": [
        {
          "output_type": "execute_result",
          "data": {
            "text/plain": [
              "array([ 5, 10, 15, 20, 25])"
            ]
          },
          "metadata": {},
          "execution_count": 87
        }
      ]
    },
    {
      "cell_type": "markdown",
      "source": [
        "$M\\times N$ (dot product)\n",
        "- (m,n) $\\times$ (n,o) = (m,o) (Shape)\n",
        "\n",
        "![Unknown-2.gif](data:image/gif;base64,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)"
      ],
      "metadata": {
        "id": "vW_3JbL5erlm"
      }
    },
    {
      "cell_type": "code",
      "source": [
        "mat_a = np.array([[2,3,5],[4,6,7]])\n",
        "mat_b = np.array([[1,2,5],[2,4,-7]])\n",
        "mat_c = np.array([[2,3],[4,6],[7,9]])"
      ],
      "metadata": {
        "id": "447857M5fhUV"
      },
      "execution_count": 88,
      "outputs": []
    },
    {
      "cell_type": "code",
      "source": [
        "mat_a"
      ],
      "metadata": {
        "id": "k79vL2kmhIjL",
        "outputId": "4c662660-20b8-435a-f726-8ea2ef218522",
        "colab": {
          "base_uri": "https://localhost:8080/"
        }
      },
      "execution_count": 89,
      "outputs": [
        {
          "output_type": "execute_result",
          "data": {
            "text/plain": [
              "array([[2, 3, 5],\n",
              "       [4, 6, 7]])"
            ]
          },
          "metadata": {},
          "execution_count": 89
        }
      ]
    },
    {
      "cell_type": "code",
      "source": [
        "mat_b"
      ],
      "metadata": {
        "id": "Lgp6SXz0hL-W",
        "outputId": "27276839-fbfe-48b0-c4a5-d3f0b0d56a58",
        "colab": {
          "base_uri": "https://localhost:8080/"
        }
      },
      "execution_count": 90,
      "outputs": [
        {
          "output_type": "execute_result",
          "data": {
            "text/plain": [
              "array([[ 1,  2,  5],\n",
              "       [ 2,  4, -7]])"
            ]
          },
          "metadata": {},
          "execution_count": 90
        }
      ]
    },
    {
      "cell_type": "code",
      "source": [
        "mat_c  #shape 2*3  สามรถคูณกับ shape 3*2 ได้"
      ],
      "metadata": {
        "id": "mR1K5zWAhOly",
        "outputId": "acb6cca0-c373-4747-dc7d-558f479ab210",
        "colab": {
          "base_uri": "https://localhost:8080/"
        }
      },
      "execution_count": 91,
      "outputs": [
        {
          "output_type": "execute_result",
          "data": {
            "text/plain": [
              "array([[2, 3],\n",
              "       [4, 6],\n",
              "       [7, 9]])"
            ]
          },
          "metadata": {},
          "execution_count": 91
        }
      ]
    },
    {
      "cell_type": "markdown",
      "source": [
        "axc, bxc"
      ],
      "metadata": {
        "id": "AWjXl5DqgVCw"
      }
    },
    {
      "cell_type": "code",
      "source": [
        "np.dot(mat_a,mat_c)"
      ],
      "metadata": {
        "id": "uZFmqk6rgUka",
        "outputId": "6f6d7bb2-0c18-403e-ae42-d16a1f75357e",
        "colab": {
          "base_uri": "https://localhost:8080/"
        }
      },
      "execution_count": 92,
      "outputs": [
        {
          "output_type": "execute_result",
          "data": {
            "text/plain": [
              "array([[ 51,  69],\n",
              "       [ 81, 111]])"
            ]
          },
          "metadata": {},
          "execution_count": 92
        }
      ]
    },
    {
      "cell_type": "code",
      "source": [
        "np.dot(mat_b,mat_c)"
      ],
      "metadata": {
        "id": "tBUWsmKwgrrd",
        "outputId": "caf40de3-b3ff-4cc1-ca1d-a4d9c231ae9e",
        "colab": {
          "base_uri": "https://localhost:8080/"
        }
      },
      "execution_count": 93,
      "outputs": [
        {
          "output_type": "execute_result",
          "data": {
            "text/plain": [
              "array([[ 45,  60],\n",
              "       [-29, -33]])"
            ]
          },
          "metadata": {},
          "execution_count": 93
        }
      ]
    },
    {
      "cell_type": "markdown",
      "source": [
        "cxa, cxb"
      ],
      "metadata": {
        "id": "j4C7wsYug6_P"
      }
    },
    {
      "cell_type": "code",
      "source": [
        "np.dot(mat_c,mat_a)"
      ],
      "metadata": {
        "id": "QUXMAbGshAiT",
        "outputId": "fb787689-4de4-447d-d2e3-fec590f60989",
        "colab": {
          "base_uri": "https://localhost:8080/"
        }
      },
      "execution_count": 94,
      "outputs": [
        {
          "output_type": "execute_result",
          "data": {
            "text/plain": [
              "array([[16, 24, 31],\n",
              "       [32, 48, 62],\n",
              "       [50, 75, 98]])"
            ]
          },
          "metadata": {},
          "execution_count": 94
        }
      ]
    },
    {
      "cell_type": "code",
      "source": [
        "mat_X = np.dot(mat_c,mat_b)\n",
        "print(mat_X)"
      ],
      "metadata": {
        "id": "_q5mlU94hIEv",
        "outputId": "59af9b6b-de99-4de3-c63e-3d8966a8f54c",
        "colab": {
          "base_uri": "https://localhost:8080/"
        }
      },
      "execution_count": 95,
      "outputs": [
        {
          "output_type": "stream",
          "name": "stdout",
          "text": [
            "[[  8  16 -11]\n",
            " [ 16  32 -22]\n",
            " [ 25  50 -28]]\n"
          ]
        }
      ]
    },
    {
      "cell_type": "code",
      "source": [
        "mat_a * mat_b   # คูณตัวตำแหน่งเดียวกัน"
      ],
      "metadata": {
        "id": "BZLg78kXhQHI",
        "outputId": "e4689c17-126b-44e0-9304-c38653465c61",
        "colab": {
          "base_uri": "https://localhost:8080/"
        }
      },
      "execution_count": 96,
      "outputs": [
        {
          "output_type": "execute_result",
          "data": {
            "text/plain": [
              "array([[  2,   6,  25],\n",
              "       [  8,  24, -49]])"
            ]
          },
          "metadata": {},
          "execution_count": 96
        }
      ]
    },
    {
      "cell_type": "markdown",
      "source": [
        "### Matrix Slicing"
      ],
      "metadata": {
        "id": "gfRBtEqEhvJL"
      }
    },
    {
      "cell_type": "code",
      "source": [
        "mat_X[:2,:2]"
      ],
      "metadata": {
        "id": "ZIzDdELNh1LL",
        "outputId": "6e62f7f8-0ed8-405d-f4a5-5ac7a93660aa",
        "colab": {
          "base_uri": "https://localhost:8080/"
        }
      },
      "execution_count": 98,
      "outputs": [
        {
          "output_type": "execute_result",
          "data": {
            "text/plain": [
              "array([[ 8, 16],\n",
              "       [16, 32]])"
            ]
          },
          "metadata": {},
          "execution_count": 98
        }
      ]
    },
    {
      "cell_type": "markdown",
      "source": [
        "#HW 3\n",
        "\n",
        "\n",
        "1. สร้าง array ที่เป็นรูป ต้น Christmas\n",
        "\n",
        "2. slice เลข 1 ออกมาจาก array HW3 ด้วยการ slice แค่ครั้งเดียว"
      ],
      "metadata": {
        "id": "-hDXUaBIiX_X"
      }
    },
    {
      "cell_type": "code",
      "source": [
        "import numpy as np"
      ],
      "metadata": {
        "id": "h3MVg3l3oeYz"
      },
      "execution_count": 104,
      "outputs": []
    },
    {
      "cell_type": "code",
      "source": [
        "HW3 = np.zeros((10,10))\n",
        "HW3"
      ],
      "metadata": {
        "id": "Ub6CAjg6HCo5",
        "outputId": "fa42d92e-9a68-4f26-8ee4-53348c096414",
        "colab": {
          "base_uri": "https://localhost:8080/"
        }
      },
      "execution_count": 107,
      "outputs": [
        {
          "output_type": "execute_result",
          "data": {
            "text/plain": [
              "array([[0., 0., 0., 0., 0., 0., 0., 0., 0., 0.],\n",
              "       [0., 0., 0., 0., 0., 0., 0., 0., 0., 0.],\n",
              "       [0., 0., 0., 0., 0., 0., 0., 0., 0., 0.],\n",
              "       [0., 0., 0., 0., 0., 0., 0., 0., 0., 0.],\n",
              "       [0., 0., 0., 0., 0., 0., 0., 0., 0., 0.],\n",
              "       [0., 0., 0., 0., 0., 0., 0., 0., 0., 0.],\n",
              "       [0., 0., 0., 0., 0., 0., 0., 0., 0., 0.],\n",
              "       [0., 0., 0., 0., 0., 0., 0., 0., 0., 0.],\n",
              "       [0., 0., 0., 0., 0., 0., 0., 0., 0., 0.],\n",
              "       [0., 0., 0., 0., 0., 0., 0., 0., 0., 0.]])"
            ]
          },
          "metadata": {},
          "execution_count": 107
        }
      ]
    },
    {
      "cell_type": "code",
      "source": [
        "HW3[::4,2] = 1  #คอลัมน์ 2 ห่างกัน 4 แถว\n",
        "HW3[::4,4] = 1  #คอลัมน์ 4 ห่างกัน 4 แถว\n",
        "HW3[::4,6] = 1  #คอลัมน์ 6 ห่างกัน 4 แถว\n",
        "HW3[::4,8] = 1  #คอลัมน์ 8 ห่างกัน 4 แถว\n",
        "HW3"
      ],
      "metadata": {
        "id": "dlx51Kei9gD8",
        "outputId": "cf69d2a6-9084-4a00-9e51-4a8b0514b7d8",
        "colab": {
          "base_uri": "https://localhost:8080/"
        }
      },
      "execution_count": 108,
      "outputs": [
        {
          "output_type": "execute_result",
          "data": {
            "text/plain": [
              "array([[0., 0., 1., 0., 1., 0., 1., 0., 1., 0.],\n",
              "       [0., 0., 0., 0., 0., 0., 0., 0., 0., 0.],\n",
              "       [0., 0., 0., 0., 0., 0., 0., 0., 0., 0.],\n",
              "       [0., 0., 0., 0., 0., 0., 0., 0., 0., 0.],\n",
              "       [0., 0., 1., 0., 1., 0., 1., 0., 1., 0.],\n",
              "       [0., 0., 0., 0., 0., 0., 0., 0., 0., 0.],\n",
              "       [0., 0., 0., 0., 0., 0., 0., 0., 0., 0.],\n",
              "       [0., 0., 0., 0., 0., 0., 0., 0., 0., 0.],\n",
              "       [0., 0., 1., 0., 1., 0., 1., 0., 1., 0.],\n",
              "       [0., 0., 0., 0., 0., 0., 0., 0., 0., 0.]])"
            ]
          },
          "metadata": {},
          "execution_count": 108
        }
      ]
    },
    {
      "cell_type": "code",
      "source": [
        "#สร้าง array ที่เป็นรูปต้น Christmas\n",
        "import numpy as np\n",
        "kdy = np.ones((15,15))\n",
        "kdy[:,7] = 0\n",
        "kdy[1::,6] = 0\n",
        "kdy[1::,8] = 0\n",
        "kdy[2:3:,5:10] = 0\n",
        "kdy[3:4:,4:11] = 0\n",
        "kdy[4:5:,5:10] = 0\n",
        "kdy[5:6:,4:11] =0\n",
        "kdy[6:7:,3:12] =0\n",
        "kdy[7:8:,4:11] = 0\n",
        "kdy[8:9:,3:12] =0\n",
        "kdy[9:10:,2:13] =0\n",
        "kdy[10:11:,1:14] =0\n",
        "kdy[11:12:,0:15] =0\n",
        "print(kdy)"
      ],
      "metadata": {
        "id": "xxWUeo7nHMlB",
        "outputId": "eb26785d-a14a-4566-9580-aa284ae7f34d",
        "colab": {
          "base_uri": "https://localhost:8080/"
        }
      },
      "execution_count": 109,
      "outputs": [
        {
          "output_type": "stream",
          "name": "stdout",
          "text": [
            "[[1. 1. 1. 1. 1. 1. 1. 0. 1. 1. 1. 1. 1. 1. 1.]\n",
            " [1. 1. 1. 1. 1. 1. 0. 0. 0. 1. 1. 1. 1. 1. 1.]\n",
            " [1. 1. 1. 1. 1. 0. 0. 0. 0. 0. 1. 1. 1. 1. 1.]\n",
            " [1. 1. 1. 1. 0. 0. 0. 0. 0. 0. 0. 1. 1. 1. 1.]\n",
            " [1. 1. 1. 1. 1. 0. 0. 0. 0. 0. 1. 1. 1. 1. 1.]\n",
            " [1. 1. 1. 1. 0. 0. 0. 0. 0. 0. 0. 1. 1. 1. 1.]\n",
            " [1. 1. 1. 0. 0. 0. 0. 0. 0. 0. 0. 0. 1. 1. 1.]\n",
            " [1. 1. 1. 1. 0. 0. 0. 0. 0. 0. 0. 1. 1. 1. 1.]\n",
            " [1. 1. 1. 0. 0. 0. 0. 0. 0. 0. 0. 0. 1. 1. 1.]\n",
            " [1. 1. 0. 0. 0. 0. 0. 0. 0. 0. 0. 0. 0. 1. 1.]\n",
            " [1. 0. 0. 0. 0. 0. 0. 0. 0. 0. 0. 0. 0. 0. 1.]\n",
            " [0. 0. 0. 0. 0. 0. 0. 0. 0. 0. 0. 0. 0. 0. 0.]\n",
            " [1. 1. 1. 1. 1. 1. 0. 0. 0. 1. 1. 1. 1. 1. 1.]\n",
            " [1. 1. 1. 1. 1. 1. 0. 0. 0. 1. 1. 1. 1. 1. 1.]\n",
            " [1. 1. 1. 1. 1. 1. 0. 0. 0. 1. 1. 1. 1. 1. 1.]]\n"
          ]
        }
      ]
    },
    {
      "cell_type": "code",
      "source": [
        "#slice เลข 1 ออกจาก array HW3 ด้วย slice แค่ครั้งเดียว\n",
        "HW3[::4,2::2]"
      ],
      "metadata": {
        "id": "Zkkd51h3HZmy",
        "outputId": "f122f9c8-e8b1-4968-8cb1-9df2a889b66b",
        "colab": {
          "base_uri": "https://localhost:8080/"
        }
      },
      "execution_count": 110,
      "outputs": [
        {
          "output_type": "execute_result",
          "data": {
            "text/plain": [
              "array([[1., 1., 1., 1.],\n",
              "       [1., 1., 1., 1.],\n",
              "       [1., 1., 1., 1.]])"
            ]
          },
          "metadata": {},
          "execution_count": 110
        }
      ]
    },
    {
      "cell_type": "markdown",
      "source": [
        "#Pandas Dataframe (แยกออกไปเป็น notebook เฉพาะ)"
      ],
      "metadata": {
        "id": "h9juZ91ZUp8q"
      }
    },
    {
      "cell_type": "code",
      "source": [
        ""
      ],
      "metadata": {
        "id": "Dzzv3jv_U1AK"
      },
      "execution_count": 103,
      "outputs": []
    }
  ]
}